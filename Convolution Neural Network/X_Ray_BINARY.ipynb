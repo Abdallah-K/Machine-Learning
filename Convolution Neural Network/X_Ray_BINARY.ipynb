{
 "cells": [
  {
   "cell_type": "code",
   "execution_count": null,
   "id": "classical-diversity",
   "metadata": {},
   "outputs": [],
   "source": [
    "import matplotlib.pyplot as plt\n",
    "import tensorflow as tf\n",
    "import numpy as np"
   ]
  },
  {
   "cell_type": "code",
   "execution_count": null,
   "id": "drawn-index",
   "metadata": {},
   "outputs": [],
   "source": [
    "train_dataset_path = \"/content/dataset/chest_xray/chest_xray/train\"\n",
    "\n",
    "CONFIG = {\n",
    "    \"IM_SIZE\":256,\n",
    "    \"BATCH_SIZE\":32,\n",
    "}"
   ]
  },
  {
   "cell_type": "code",
   "execution_count": null,
   "id": "everyday-uganda",
   "metadata": {},
   "outputs": [],
   "source": [
    "train_ds = tf.keras.preprocessing.image_dataset_from_directory(\n",
    "    train_dataset_path,\n",
    "    image_size= (CONFIG[\"IM_SIZE\"],CONFIG[\"IM_SIZE\"]),\n",
    "    batch_size=CONFIG[\"BATCH_SIZE\"],\n",
    "    seed = 123,\n",
    "    shuffle= True,\n",
    "    subset=\"training\",\n",
    "    validation_split = 0.2,\n",
    "    label_mode = \"binary\",\n",
    ")"
   ]
  },
  {
   "cell_type": "code",
   "execution_count": null,
   "id": "valued-female",
   "metadata": {},
   "outputs": [],
   "source": [
    "val_ds = tf.keras.preprocessing.image_dataset_from_directory(\n",
    "    train_dataset_path,\n",
    "    image_size= (CONFIG[\"IM_SIZE\"],CONFIG[\"IM_SIZE\"]),\n",
    "    batch_size=CONFIG[\"BATCH_SIZE\"],\n",
    "    seed = 123,\n",
    "    shuffle= True,\n",
    "    subset=\"validation\",\n",
    "    validation_split = 0.2,\n",
    "    label_mode = \"binary\",\n",
    ")"
   ]
  },
  {
   "cell_type": "code",
   "execution_count": null,
   "id": "recent-teach",
   "metadata": {},
   "outputs": [],
   "source": [
    "class_names = train_ds.class_names\n",
    "print(class_names)"
   ]
  },
  {
   "cell_type": "code",
   "execution_count": null,
   "id": "peaceful-reward",
   "metadata": {},
   "outputs": [],
   "source": [
    "plt.figure(figsize = (12,12))\n",
    "\n",
    "for images,labels in train_ds.take(1):\n",
    "  for i in range(16):\n",
    "    plt.subplot(4,4,i+1)\n",
    "    plt.title(class_names[int(labels[i].numpy()[0])])\n",
    "    plt.imshow(images[i]/255)\n",
    "    plt.axis(\"off\")"
   ]
  },
  {
   "cell_type": "code",
   "execution_count": null,
   "id": "urban-royalty",
   "metadata": {},
   "outputs": [],
   "source": [
    "data_augmentation = tf.keras.Sequential(\n",
    "  [\n",
    "    tf.keras.layers.RandomFlip(\"horizontal\",input_shape=(CONFIG[\"IM_SIZE\"],CONFIG[\"IM_SIZE\"],3)),\n",
    "    tf.keras.layers.RandomRotation(0.1),\n",
    "    tf.keras.layers.RandomZoom(0.1),\n",
    "  ]\n",
    ")"
   ]
  },
  {
   "cell_type": "code",
   "execution_count": null,
   "id": "quiet-holiday",
   "metadata": {},
   "outputs": [],
   "source": [
    "plt.figure(figsize=(10, 10))\n",
    "for images, _ in train_ds.take(1):\n",
    "  for i in range(9):\n",
    "    augmented_images = data_augmentation(images)\n",
    "    ax = plt.subplot(3, 3, i + 1)\n",
    "    plt.imshow(augmented_images[0].numpy().astype(\"uint8\"))\n",
    "    plt.axis(\"off\")"
   ]
  },
  {
   "cell_type": "code",
   "execution_count": null,
   "id": "homeless-ridge",
   "metadata": {},
   "outputs": [],
   "source": [
    "train_ds = train_ds.shuffle(1000).prefetch(tf.data.AUTOTUNE)\n",
    "val_ds = val_ds.prefetch(tf.data.AUTOTUNE)"
   ]
  },
  {
   "cell_type": "code",
   "execution_count": null,
   "id": "mighty-warren",
   "metadata": {},
   "outputs": [],
   "source": [
    "print(f\"Train Size: {len(train_ds)} Val Size: {len(val_ds)}\")\n",
    "print(train_ds)\n",
    "print(val_ds)"
   ]
  },
  {
   "cell_type": "code",
   "execution_count": null,
   "id": "accurate-shoot",
   "metadata": {},
   "outputs": [],
   "source": [
    "model = tf.keras.models.Sequential([\n",
    "    tf.keras.layers.Rescaling(1./255, input_shape = (CONFIG[\"IM_SIZE\"],CONFIG[\"IM_SIZE\"],3)),\n",
    "    data_augmentation,\n",
    "\n",
    "    tf.keras.layers.Conv2D(filters = 32,kernel_size = 3,strides = 1,padding = \"valid\",activation = \"relu\"),\n",
    "    tf.keras.layers.MaxPool2D(),\n",
    "\n",
    "    tf.keras.layers.Conv2D(filters = 64,kernel_size = 3,strides = 1,padding = \"valid\",activation = \"relu\"),\n",
    "    tf.keras.layers.MaxPool2D(),\n",
    "\n",
    "    tf.keras.layers.Conv2D(filters = 128,kernel_size = 3,strides = 1,padding = \"valid\",activation = \"relu\"),\n",
    "    tf.keras.layers.MaxPool2D(),\n",
    "\n",
    "    tf.keras.layers.Dropout(0.2),\n",
    "\n",
    "    tf.keras.layers.Flatten(),\n",
    "\n",
    "    tf.keras.layers.Dense(512,activation = \"relu\"),\n",
    "    tf.keras.layers.Dense(100,activation = \"relu\"),\n",
    "\n",
    "    tf.keras.layers.Dense(1,activation = \"sigmoid\")\n",
    "])\n",
    "model.summary()"
   ]
  },
  {
   "cell_type": "code",
   "execution_count": null,
   "id": "cordless-frost",
   "metadata": {},
   "outputs": [],
   "source": [
    "model.compile(optimizer='adam',loss = tf.keras.losses.binary_crossentropy,metrics = ['accuracy'])"
   ]
  },
  {
   "cell_type": "code",
   "execution_count": null,
   "id": "confidential-fundamental",
   "metadata": {},
   "outputs": [],
   "source": [
    "history = model.fit(train_ds,validation_data = val_ds,epochs = 10)"
   ]
  },
  {
   "cell_type": "code",
   "execution_count": null,
   "id": "demographic-calculator",
   "metadata": {},
   "outputs": [],
   "source": [
    "model.evaluate(val_ds)"
   ]
  },
  {
   "cell_type": "code",
   "execution_count": null,
   "id": "useful-supply",
   "metadata": {},
   "outputs": [],
   "source": [
    "plt.plot(history.history['loss'])\n",
    "plt.plot(history.history['val_loss'])\n",
    "plt.title('Model loss')\n",
    "plt.ylabel('loss')\n",
    "plt.xlabel('epoch')\n",
    "plt.legend([\"train_loss\",\"val_loss\"])\n",
    "plt.show()"
   ]
  },
  {
   "cell_type": "code",
   "execution_count": null,
   "id": "excessive-partition",
   "metadata": {},
   "outputs": [],
   "source": [
    "plt.plot(history.history['accuracy'])\n",
    "plt.plot(history.history['val_accuracy'])\n",
    "plt.title('Model Accuracy')\n",
    "plt.ylabel('Accuracy')\n",
    "plt.xlabel('epoch')\n",
    "plt.legend([\"train_acc\",\"val_acc\"])\n",
    "plt.show()"
   ]
  },
  {
   "cell_type": "code",
   "execution_count": null,
   "id": "later-dylan",
   "metadata": {},
   "outputs": [],
   "source": [
    "plt.figure(figsize = (16,16))\n",
    "text = \"\"\n",
    "for images,labels in val_ds.take(1):\n",
    "  for i in range(16):\n",
    "    plt.subplot(4,4,i+1)\n",
    "    plt.imshow(images[i]/255)\n",
    "    true_label = class_names[int(labels[i].numpy()[0])]\n",
    "    img_pred = tf.expand_dims(images[i],axis = 0)\n",
    "    prediction = model.predict(img_pred)\n",
    "    if prediction >= 0.5:\n",
    "      text = \"PNEUMONIA\"\n",
    "    else:\n",
    "      text = \"NORMAL\"\n",
    "    plt.title(f\"True: {true_label} \\n Prediction: {text}\")\n",
    "    plt.axis(\"off\")"
   ]
  },
  {
   "cell_type": "code",
   "execution_count": null,
   "id": "sized-produce",
   "metadata": {},
   "outputs": [],
   "source": []
  }
 ],
 "metadata": {
  "kernelspec": {
   "display_name": "Python 3",
   "language": "python",
   "name": "python3"
  },
  "language_info": {
   "codemirror_mode": {
    "name": "ipython",
    "version": 3
   },
   "file_extension": ".py",
   "mimetype": "text/x-python",
   "name": "python",
   "nbconvert_exporter": "python",
   "pygments_lexer": "ipython3",
   "version": "3.8.8"
  }
 },
 "nbformat": 4,
 "nbformat_minor": 5
}
