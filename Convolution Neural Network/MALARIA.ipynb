{
 "cells": [
  {
   "cell_type": "code",
   "execution_count": null,
   "id": "medical-sierra",
   "metadata": {},
   "outputs": [],
   "source": [
    "import tensorflow as tf\n",
    "import numpy as np\n",
    "import matplotlib.pyplot as plt\n",
    "import tensorflow_datasets as tfds\n",
    "from tensorflow.keras.models import Model\n",
    "from tensorflow.keras.layers import InputLayer,Dense,Conv2D,MaxPool2D,Flatten,BatchNormalization,Input, Dropout\n",
    "from tensorflow.keras.optimizers import Adam\n",
    "from tensorflow.keras.losses import BinaryCrossentropy"
   ]
  },
  {
   "cell_type": "code",
   "execution_count": null,
   "id": "handmade-battle",
   "metadata": {},
   "outputs": [],
   "source": [
    "dataset,dataset_info = tfds.load('malaria',with_info=True, as_supervised=True, shuffle_files=True,split=['train'])"
   ]
  },
  {
   "cell_type": "markdown",
   "id": "robust-asian",
   "metadata": {},
   "source": [
    "# DATA PREPARATION"
   ]
  },
  {
   "cell_type": "code",
   "execution_count": null,
   "id": "angry-hurricane",
   "metadata": {},
   "outputs": [],
   "source": [
    "dataset"
   ]
  },
  {
   "cell_type": "code",
   "execution_count": null,
   "id": "filled-mexican",
   "metadata": {},
   "outputs": [],
   "source": [
    "TRAIN_RATIO = 0.6\n",
    "VAL_RATIO = 0.2\n",
    "TEST_RATIO = 0.2\n",
    "DATASET_SIZE = len(dataset)\n",
    "\n",
    "dataset = tf.data.Dataset.range(10)\n",
    "\n",
    "train_dataset = dataset.take(int(TRAIN_RATIO * DATASET_SIZE))\n",
    "val_test_dataset = dataset.skip(int(TRAIN_RATIO * DATASET_SIZE))\n",
    "val_dataset = val_test_dataset.take(int(VAL_RATIO * DATASET_SIZE))\n",
    "test_dataset = val_test_dataset.skip(int(VAL_RATIO * DATASET_SIZE))\n",
    "\n",
    "# print(list(train_dataset.as_numpy_iterator()))\n",
    "# dataset = tf.data.Dataset.range(10)\n",
    "# dataset = dataset.skip(7)\n",
    "# list(dataset.as_numpy_iterator())"
   ]
  },
  {
   "cell_type": "code",
   "execution_count": null,
   "id": "several-adams",
   "metadata": {},
   "outputs": [],
   "source": [
    "TRAIN_RATIO = 0.6\n",
    "VAL_RATIO = 0.2\n",
    "TEST_RATIO = 0.2\n",
    "DATASET_SIZE = len(dataset[0])\n",
    "\n",
    "train_dataset = dataset[0].take(int(TRAIN_RATIO * DATASET_SIZE))\n",
    "val_test_dataset = dataset[0].skip(int(TRAIN_RATIO * DATASET_SIZE))\n",
    "val_dataset = val_test_dataset.take(int(VAL_RATIO * DATASET_SIZE))\n",
    "test_dataset = val_test_dataset.skip(int(VAL_RATIO * DATASET_SIZE))"
   ]
  },
  {
   "cell_type": "code",
   "execution_count": null,
   "id": "searching-virgin",
   "metadata": {},
   "outputs": [],
   "source": [
    "train_dataset.take(1)"
   ]
  },
  {
   "cell_type": "code",
   "execution_count": null,
   "id": "oriental-february",
   "metadata": {},
   "outputs": [],
   "source": [
    "dataset_info"
   ]
  },
  {
   "cell_type": "code",
   "execution_count": null,
   "id": "chronic-spice",
   "metadata": {},
   "outputs": [],
   "source": [
    "for data in dataset['train'].take(1):\n",
    "  print(data)"
   ]
  },
  {
   "cell_type": "code",
   "execution_count": null,
   "id": "quarterly-denial",
   "metadata": {},
   "outputs": [],
   "source": [
    "for i ,(image,label) in enumerate(train_dataset.take(16)):\n",
    "  ax = plt.subplot(4,4, i + 1)\n",
    "  plt.title(dataset_info.features['label'].int2str(label))\n",
    "  plt.imshow(image)\n",
    "  plt.axis('off')"
   ]
  },
  {
   "cell_type": "markdown",
   "id": "creative-psychology",
   "metadata": {},
   "source": [
    "# DATA PREPROCESSING"
   ]
  },
  {
   "cell_type": "code",
   "execution_count": null,
   "id": "caroline-country",
   "metadata": {},
   "outputs": [],
   "source": [
    "for image,label in train_dataset.take(1):\n",
    "  print(image)\n",
    "  print(label)"
   ]
  },
  {
   "cell_type": "code",
   "execution_count": null,
   "id": "systematic-reach",
   "metadata": {},
   "outputs": [],
   "source": [
    "IM_SIZE = 224\n",
    "def resizing_rescale(image,label):\n",
    "    return tf.image.resize(image,(IM_SIZE,IM_SIZE))/255.0,label"
   ]
  },
  {
   "cell_type": "code",
   "execution_count": null,
   "id": "detailed-kinase",
   "metadata": {},
   "outputs": [],
   "source": [
    "train_dataset = train_dataset.map(resizing_rescale)\n",
    "val_dataset = val_dataset.map(resizing_rescale)\n",
    "test_dataset = test_dataset.map(resizing_rescale)"
   ]
  },
  {
   "cell_type": "code",
   "execution_count": null,
   "id": "intensive-price",
   "metadata": {},
   "outputs": [],
   "source": [
    "train_dataset = train_dataset.shuffle(buffer_size = 8,reshuffle_each_iteration=True).batch(32).prefetch(tf.data.AUTOTUNE)\n",
    "test_dataset = test_dataset.shuffle(buffer_size = 8,reshuffle_each_iteration=True).batch(32).prefetch(tf.data.AUTOTUNE)\n",
    "val_dataset = val_dataset.shuffle(buffer_size = 8,reshuffle_each_iteration=True).batch(32).prefetch(tf.data.AUTOTUNE)"
   ]
  },
  {
   "cell_type": "code",
   "execution_count": null,
   "id": "prostate-amateur",
   "metadata": {},
   "outputs": [],
   "source": [
    "print(train_dataset)\n",
    "print(test_dataset)\n",
    "print(val_dataset)"
   ]
  },
  {
   "cell_type": "markdown",
   "id": "small-freight",
   "metadata": {},
   "source": [
    "# SEQUENTIAL API"
   ]
  },
  {
   "cell_type": "code",
   "execution_count": null,
   "id": "legitimate-recruitment",
   "metadata": {},
   "outputs": [],
   "source": [
    "IM_SIZE = 224\n",
    "model = tf.keras.Sequential([\n",
    "        InputLayer(input_shape=(IM_SIZE,IM_SIZE,3)),\n",
    "\n",
    "        Conv2D(filters = 6, kernel_size = 3, strides = 1,padding=\"valid\", activation = 'relu'),\n",
    "        BatchNormalization(),\n",
    "        MaxPool2D(pool_size = 2,strides = 2),\n",
    "        Dropout(rate = 0.3),\n",
    "\n",
    "    \n",
    "        Conv2D(filters = 16, kernel_size = 3, strides = 1,padding=\"valid\", activation = 'relu'),\n",
    "        BatchNormalization(),\n",
    "        MaxPool2D(pool_size = 2,strides = 2),\n",
    "\n",
    "        Flatten(),\n",
    "\n",
    "        Dense(100,activation = \"relu\"),\n",
    "        BatchNormalization(),\n",
    "        Dropout(rate = 0.3),\n",
    "\n",
    "        Dense(10,activation = \"relu\"),\n",
    "        BatchNormalization(),\n",
    "        Dense(1,activation = \"sigmoid\"),\n",
    "\n",
    "\n",
    "])\n",
    "model.summary()"
   ]
  },
  {
   "cell_type": "code",
   "execution_count": null,
   "id": "civil-timer",
   "metadata": {},
   "outputs": [],
   "source": [
    "model.compile(optimizer = Adam(learning_rate=0.1), loss = BinaryCrossentropy(),metrics = 'accuracy')"
   ]
  },
  {
   "cell_type": "code",
   "execution_count": null,
   "id": "outstanding-honolulu",
   "metadata": {},
   "outputs": [],
   "source": [
    "history = model.fit(train_dataset,validation_data = val_dataset, epochs = 10, verbose = 1)"
   ]
  },
  {
   "cell_type": "code",
   "execution_count": null,
   "id": "muslim-jungle",
   "metadata": {},
   "outputs": [],
   "source": [
    "for k,v in history.history.items():\n",
    "  print(k)"
   ]
  },
  {
   "cell_type": "code",
   "execution_count": null,
   "id": "italic-audience",
   "metadata": {},
   "outputs": [],
   "source": [
    "plt.plot(history.history['loss'])\n",
    "plt.plot(history.history['val_loss'])\n",
    "plt.title(\"Model Loss\")\n",
    "plt.ylabel(\"Loss\")\n",
    "plt.xlabel(\"EPOCHS\")\n",
    "plt.legend(['train_loss','val_loss'])\n",
    "plt.show()"
   ]
  },
  {
   "cell_type": "code",
   "execution_count": null,
   "id": "fundamental-webcam",
   "metadata": {},
   "outputs": [],
   "source": [
    "plt.plot(history.history['accuracy'])\n",
    "plt.plot(history.history['val_accuracy'])\n",
    "plt.title(\"Model Accuracy\")\n",
    "plt.ylabel(\"accuracy\")\n",
    "plt.xlabel(\"EPOCHS\")\n",
    "plt.legend(['train_acc','val_acc'])\n",
    "plt.show()"
   ]
  },
  {
   "cell_type": "markdown",
   "id": "fuzzy-telling",
   "metadata": {},
   "source": [
    "# MODEL EVALUTE"
   ]
  },
  {
   "cell_type": "code",
   "execution_count": null,
   "id": "composed-finish",
   "metadata": {},
   "outputs": [],
   "source": [
    "model.evaluate(test_dataset)"
   ]
  },
  {
   "cell_type": "code",
   "execution_count": null,
   "id": "acceptable-rolling",
   "metadata": {},
   "outputs": [],
   "source": [
    "model.predict(test_dataset.take(1))[0][0]"
   ]
  },
  {
   "cell_type": "code",
   "execution_count": null,
   "id": "delayed-walnut",
   "metadata": {},
   "outputs": [],
   "source": [
    "def parasite_or_not(x):\n",
    "  if (x < 0.5):\n",
    "    return str('P')\n",
    "  else:\n",
    "    return str('U')"
   ]
  },
  {
   "cell_type": "code",
   "execution_count": null,
   "id": "fabulous-gasoline",
   "metadata": {},
   "outputs": [],
   "source": [
    "for i,(image,label) in enumerate(test_dataset.take(9)):\n",
    "\n",
    "  ax = plt.subplot(3,3,i + 1)\n",
    "  plt.imshow(image[0])\n",
    "  plt.title(str(parasite_or_not(label.numpy()[0])) + \":\" + str(parasite_or_not(model.predict(image)[0][0])))"
   ]
  },
  {
   "cell_type": "code",
   "execution_count": null,
   "id": "intelligent-innocent",
   "metadata": {},
   "outputs": [],
   "source": []
  },
  {
   "cell_type": "code",
   "execution_count": null,
   "id": "indian-industry",
   "metadata": {},
   "outputs": [],
   "source": []
  },
  {
   "cell_type": "code",
   "execution_count": null,
   "id": "consecutive-turkey",
   "metadata": {},
   "outputs": [],
   "source": []
  },
  {
   "cell_type": "code",
   "execution_count": null,
   "id": "imposed-quest",
   "metadata": {},
   "outputs": [],
   "source": []
  },
  {
   "cell_type": "code",
   "execution_count": null,
   "id": "pointed-toddler",
   "metadata": {},
   "outputs": [],
   "source": []
  }
 ],
 "metadata": {
  "kernelspec": {
   "display_name": "Python 3",
   "language": "python",
   "name": "python3"
  },
  "language_info": {
   "codemirror_mode": {
    "name": "ipython",
    "version": 3
   },
   "file_extension": ".py",
   "mimetype": "text/x-python",
   "name": "python",
   "nbconvert_exporter": "python",
   "pygments_lexer": "ipython3",
   "version": "3.8.8"
  }
 },
 "nbformat": 4,
 "nbformat_minor": 5
}
