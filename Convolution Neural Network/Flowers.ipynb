{
 "cells": [
  {
   "cell_type": "code",
   "execution_count": 1,
   "id": "aging-scanner",
   "metadata": {},
   "outputs": [],
   "source": [
    "import tensorflow as tf\n",
    "import numpy as np\n",
    "import matplotlib.pyplot as plt\n",
    "from tensorflow.keras.layers import Layer, Dropout,MaxPooling2D,GlobalAveragePooling2D,Activation,Add,LayerNormalization\n",
    "from tensorflow.keras.layers import InputLayer,Dense,Conv2D,MaxPool2D,Flatten\n",
    "from tensorflow.keras.losses import BinaryCrossentropy,CategoricalCrossentropy,SparseCategoricalCrossentropy\n",
    "import  cv2"
   ]
  },
  {
   "cell_type": "code",
   "execution_count": 2,
   "id": "welsh-motel",
   "metadata": {},
   "outputs": [],
   "source": [
    "dataset_dir = \"dataset\"\n",
    "\n",
    "CONFIG = {\n",
    "    \"IM_SIZE\" : 180,\n",
    "    \"BATCH_SIZE\" : 32,\n",
    "}"
   ]
  },
  {
   "cell_type": "markdown",
   "id": "gross-publisher",
   "metadata": {},
   "source": [
    "# DATA PREPARATION ONE"
   ]
  },
  {
   "cell_type": "code",
   "execution_count": 4,
   "id": "outer-fairy",
   "metadata": {},
   "outputs": [
    {
     "name": "stdout",
     "output_type": "stream",
     "text": [
      "Found 4323 files belonging to 5 classes.\n"
     ]
    }
   ],
   "source": [
    "dataset = tf.keras.preprocessing.image_dataset_from_directory(\n",
    "    dataset_dir,\n",
    "    image_size= (CONFIG[\"IM_SIZE\"],CONFIG[\"IM_SIZE\"]),\n",
    "    batch_size= CONFIG[\"BATCH_SIZE\"],\n",
    "    seed = 123,\n",
    "    shuffle= True,\n",
    ")"
   ]
  },
  {
   "cell_type": "code",
   "execution_count": 24,
   "id": "instant-england",
   "metadata": {},
   "outputs": [
    {
     "name": "stdout",
     "output_type": "stream",
     "text": [
      "['daisy', 'dandelion', 'rose', 'sunflower', 'tulip']\n"
     ]
    }
   ],
   "source": [
    "CLASS_NAMES = dataset.class_names\n",
    "print(CLASS_NAMES)"
   ]
  },
  {
   "cell_type": "code",
   "execution_count": 6,
   "id": "chubby-texture",
   "metadata": {},
   "outputs": [],
   "source": [
    "def get_dataset_partitions_tf(ds,train_split = 0.8,val_split=0.1,test_split=0.1,shuffle =True,shuffle_size =10000):\n",
    "    \n",
    "    ds_size = len(ds)\n",
    "    if shuffle:\n",
    "        ds = ds.shuffle(shuffle_size,seed=123)\n",
    "    \n",
    "    train_size = int(train_split * ds_size)\n",
    "    val_size = int(val_split * ds_size)\n",
    "    \n",
    "    train_ds = ds.take(train_size)\n",
    "    val_ds = ds.skip(train_size).take(val_size)\n",
    "    test_ds = ds.skip(train_size).skip(val_size)\n",
    "    \n",
    "    return train_ds, val_ds, test_ds"
   ]
  },
  {
   "cell_type": "code",
   "execution_count": 7,
   "id": "fewer-tulsa",
   "metadata": {},
   "outputs": [],
   "source": [
    "train_ds, val_ds, test_ds = get_dataset_partitions_tf(dataset)"
   ]
  },
  {
   "cell_type": "code",
   "execution_count": 8,
   "id": "overall-franchise",
   "metadata": {},
   "outputs": [
    {
     "name": "stdout",
     "output_type": "stream",
     "text": [
      "Train Size: 108 Val Size: 13 Test Size: 15\n"
     ]
    }
   ],
   "source": [
    "print(f\"Train Size: {len(train_ds)} Val Size: {len(val_ds)} Test Size: {len(test_ds)}\")"
   ]
  },
  {
   "cell_type": "code",
   "execution_count": 9,
   "id": "revised-documentation",
   "metadata": {},
   "outputs": [],
   "source": [
    "train_ds = train_ds.cache().shuffle(1000).prefetch(buffer_size=tf.data.AUTOTUNE)\n",
    "val_ds = val_ds.cache().shuffle(1000).prefetch(buffer_size=tf.data.AUTOTUNE)\n",
    "test_ds = test_ds.cache().shuffle(1000).prefetch(buffer_size=tf.data.AUTOTUNE)"
   ]
  },
  {
   "cell_type": "code",
   "execution_count": 10,
   "id": "palestinian-charge",
   "metadata": {},
   "outputs": [
    {
     "name": "stdout",
     "output_type": "stream",
     "text": [
      "<PrefetchDataset shapes: ((None, 256, 256, 3), (None,)), types: (tf.float32, tf.int32)>\n",
      "<PrefetchDataset shapes: ((None, 256, 256, 3), (None,)), types: (tf.float32, tf.int32)>\n",
      "<PrefetchDataset shapes: ((None, 256, 256, 3), (None,)), types: (tf.float32, tf.int32)>\n"
     ]
    }
   ],
   "source": [
    "print(train_ds)\n",
    "print(val_ds)\n",
    "print(test_ds)"
   ]
  },
  {
   "cell_type": "markdown",
   "id": "severe-mongolia",
   "metadata": {},
   "source": [
    "# DATA PREPARATION TWO"
   ]
  },
  {
   "cell_type": "code",
   "execution_count": 4,
   "id": "after-cinema",
   "metadata": {},
   "outputs": [
    {
     "name": "stdout",
     "output_type": "stream",
     "text": [
      "Found 4323 files belonging to 5 classes.\n"
     ]
    }
   ],
   "source": [
    "dataset = tf.keras.preprocessing.image_dataset_from_directory(\n",
    "    dataset_dir,\n",
    "    image_size= (CONFIG[\"IM_SIZE\"],CONFIG[\"IM_SIZE\"]),\n",
    "    batch_size= CONFIG[\"BATCH_SIZE\"],\n",
    "    seed = 123,\n",
    "    shuffle= True,\n",
    ")"
   ]
  },
  {
   "cell_type": "code",
   "execution_count": 10,
   "id": "interstate-military",
   "metadata": {},
   "outputs": [
    {
     "name": "stdout",
     "output_type": "stream",
     "text": [
      "['daisy', 'dandelion', 'rose', 'sunflower', 'tulip']\n"
     ]
    }
   ],
   "source": [
    "CLASS_NAMES = dataset.class_names\n",
    "print(CLASS_NAMES)"
   ]
  },
  {
   "cell_type": "code",
   "execution_count": 5,
   "id": "revised-leave",
   "metadata": {},
   "outputs": [],
   "source": [
    "TRAIN_RATIO = 0.8\n",
    "VAL_RATIO = 0.1\n",
    "TEST_RATIO = 0.1\n",
    "DATASET_SIZE = len(dataset)\n",
    "\n",
    "train_size = int(TRAIN_RATIO * DATASET_SIZE)\n",
    "val_size = int(VAL_RATIO * DATASET_SIZE)\n",
    "\n",
    "train_ds = dataset.take(train_size)\n",
    "val_ds = dataset.skip(train_size).take(val_size)\n",
    "test_ds = dataset.skip(train_size).skip(val_size)"
   ]
  },
  {
   "cell_type": "code",
   "execution_count": 6,
   "id": "quarterly-worse",
   "metadata": {},
   "outputs": [
    {
     "name": "stdout",
     "output_type": "stream",
     "text": [
      "Train Size: 108 Val Size: 13 Test Size: 15\n"
     ]
    }
   ],
   "source": [
    "print(f\"Train Size: {len(train_ds)} Val Size: {len(val_ds)} Test Size: {len(test_ds)}\")"
   ]
  },
  {
   "cell_type": "code",
   "execution_count": 47,
   "id": "touched-birmingham",
   "metadata": {},
   "outputs": [],
   "source": [
    "def resize_rescale(image,label):\n",
    "    return tf.image.resize(image,(CONFIG[\"IM_SIZE\"],CONFIG[\"IM_SIZE\"]))/.255,label"
   ]
  },
  {
   "cell_type": "code",
   "execution_count": 7,
   "id": "coral-participation",
   "metadata": {},
   "outputs": [],
   "source": [
    "train_ds = (\n",
    "    train_ds\n",
    "    .cache()\n",
    "    #.map(resize_rescale)\n",
    "    .shuffle(1000)\n",
    "    .prefetch(tf.data.AUTOTUNE)\n",
    ")\n",
    "\n",
    "val_ds = (\n",
    "    val_ds\n",
    "    .cache()\n",
    "    #.map(resize_rescale)\n",
    "    .shuffle(1000)\n",
    "    .prefetch(tf.data.AUTOTUNE)\n",
    ")\n",
    "\n",
    "test_ds = (\n",
    "    test_ds\n",
    "    .cache()\n",
    "    #.map(resize_rescale)\n",
    "    .shuffle(1000)\n",
    "    .prefetch(tf.data.AUTOTUNE)\n",
    ")"
   ]
  },
  {
   "cell_type": "code",
   "execution_count": 8,
   "id": "uniform-parameter",
   "metadata": {},
   "outputs": [
    {
     "name": "stdout",
     "output_type": "stream",
     "text": [
      "<PrefetchDataset shapes: ((None, 180, 180, 3), (None,)), types: (tf.float32, tf.int32)>\n",
      "<PrefetchDataset shapes: ((None, 180, 180, 3), (None,)), types: (tf.float32, tf.int32)>\n",
      "<PrefetchDataset shapes: ((None, 180, 180, 3), (None,)), types: (tf.float32, tf.int32)>\n"
     ]
    }
   ],
   "source": [
    "print(train_ds)\n",
    "print(val_ds)\n",
    "print(test_ds)"
   ]
  },
  {
   "cell_type": "markdown",
   "id": "optional-experiment",
   "metadata": {},
   "source": [
    "# DATA PREPARATION THREE"
   ]
  },
  {
   "cell_type": "code",
   "execution_count": 9,
   "id": "electric-voluntary",
   "metadata": {},
   "outputs": [
    {
     "name": "stdout",
     "output_type": "stream",
     "text": [
      "Found 4323 files belonging to 5 classes.\n"
     ]
    }
   ],
   "source": [
    "dataset = tf.keras.preprocessing.image_dataset_from_directory(\n",
    "    dataset_dir,\n",
    "    image_size= (CONFIG[\"IM_SIZE\"],CONFIG[\"IM_SIZE\"]),\n",
    "    batch_size= CONFIG[\"BATCH_SIZE\"],\n",
    "    seed = 123,\n",
    "    shuffle= True,\n",
    ")"
   ]
  },
  {
   "cell_type": "code",
   "execution_count": 4,
   "id": "different-society",
   "metadata": {},
   "outputs": [
    {
     "name": "stdout",
     "output_type": "stream",
     "text": [
      "['daisy', 'dandelion', 'rose', 'sunflower', 'tulip']\n"
     ]
    }
   ],
   "source": [
    "CLASS_NAMES = dataset.class_names\n",
    "print(CLASS_NAMES)"
   ]
  },
  {
   "cell_type": "code",
   "execution_count": 10,
   "id": "promotional-consumption",
   "metadata": {},
   "outputs": [],
   "source": [
    "TRAIN_RATIO = 0.8\n",
    "VAL_RATIO = 0.1\n",
    "TEST_RATIO = 0.1\n",
    "DATASET_SIZE = len(dataset)\n",
    "\n",
    "train_size = int(TRAIN_RATIO * DATASET_SIZE)\n",
    "val_size = int(VAL_RATIO * DATASET_SIZE)\n",
    "\n",
    "train_ds = dataset.take(train_size)\n",
    "val_ds = dataset.skip(train_size).take(val_size)\n",
    "test_ds = dataset.skip(train_size).skip(val_size)"
   ]
  },
  {
   "cell_type": "code",
   "execution_count": 11,
   "id": "private-fault",
   "metadata": {},
   "outputs": [
    {
     "name": "stdout",
     "output_type": "stream",
     "text": [
      "Train Size: 108 Val Size: 13 Test Size: 15\n"
     ]
    }
   ],
   "source": [
    "print(f\"Train Size: {len(train_ds)} Val Size: {len(val_ds)} Test Size: {len(test_ds)}\")"
   ]
  },
  {
   "cell_type": "code",
   "execution_count": 13,
   "id": "numerical-detective",
   "metadata": {},
   "outputs": [],
   "source": [
    "train_ds = train_ds.shuffle(buffer_size = 8,reshuffle_each_iteration=True).prefetch(tf.data.AUTOTUNE)\n",
    "val_ds = val_ds.shuffle(buffer_size = 8,reshuffle_each_iteration=True).prefetch(tf.data.AUTOTUNE)\n",
    "test_ds = test_ds.shuffle(buffer_size = 8,reshuffle_each_iteration=True).prefetch(tf.data.AUTOTUNE)"
   ]
  },
  {
   "cell_type": "code",
   "execution_count": 14,
   "id": "developmental-strengthening",
   "metadata": {},
   "outputs": [
    {
     "name": "stdout",
     "output_type": "stream",
     "text": [
      "<PrefetchDataset shapes: ((None, 180, 180, 3), (None,)), types: (tf.float32, tf.int32)>\n",
      "<PrefetchDataset shapes: ((None, 180, 180, 3), (None,)), types: (tf.float32, tf.int32)>\n",
      "<PrefetchDataset shapes: ((None, 180, 180, 3), (None,)), types: (tf.float32, tf.int32)>\n"
     ]
    }
   ],
   "source": [
    "print(train_ds)\n",
    "print(val_ds)\n",
    "print(test_ds)"
   ]
  },
  {
   "cell_type": "markdown",
   "id": "cooperative-button",
   "metadata": {},
   "source": [
    "# DATA PREPERATION FOUR"
   ]
  },
  {
   "cell_type": "code",
   "execution_count": 8,
   "id": "civic-rainbow",
   "metadata": {},
   "outputs": [
    {
     "name": "stdout",
     "output_type": "stream",
     "text": [
      "Found 4323 files belonging to 5 classes.\n",
      "Using 3459 files for training.\n"
     ]
    }
   ],
   "source": [
    "train_ds = tf.keras.preprocessing.image_dataset_from_directory(\n",
    "    dataset_dir,\n",
    "    labels='inferred',\n",
    "    label_mode='int', \n",
    "    color_mode='rgb',\n",
    "    subset=\"training\",\n",
    "    validation_split=0.2,\n",
    "    batch_size=CONFIG[\"BATCH_SIZE\"],\n",
    "    image_size=(CONFIG[\"IM_SIZE\"], CONFIG[\"IM_SIZE\"]),\n",
    "    shuffle=True, \n",
    "    seed=99, \n",
    ")"
   ]
  },
  {
   "cell_type": "code",
   "execution_count": 9,
   "id": "average-rachel",
   "metadata": {},
   "outputs": [
    {
     "name": "stdout",
     "output_type": "stream",
     "text": [
      "Found 4323 files belonging to 5 classes.\n",
      "Using 864 files for validation.\n"
     ]
    }
   ],
   "source": [
    "val_ds = tf.keras.preprocessing.image_dataset_from_directory(\n",
    "    dataset_dir,\n",
    "    labels='inferred',\n",
    "    label_mode='int', \n",
    "    color_mode='rgb',\n",
    "    subset=\"validation\",\n",
    "    validation_split=0.2,\n",
    "    batch_size=CONFIG[\"BATCH_SIZE\"],\n",
    "    image_size=(CONFIG[\"IM_SIZE\"], CONFIG[\"IM_SIZE\"]),\n",
    "    shuffle=True, \n",
    "    seed=99, \n",
    ")"
   ]
  },
  {
   "cell_type": "code",
   "execution_count": 10,
   "id": "atmospheric-lesson",
   "metadata": {},
   "outputs": [
    {
     "name": "stdout",
     "output_type": "stream",
     "text": [
      "['daisy', 'dandelion', 'rose', 'sunflower', 'tulip']\n"
     ]
    }
   ],
   "source": [
    "CLASS_NAMES = train_ds.class_names\n",
    "print(CLASS_NAMES)"
   ]
  },
  {
   "cell_type": "code",
   "execution_count": 11,
   "id": "divided-trail",
   "metadata": {},
   "outputs": [],
   "source": [
    "train_ds = (\n",
    "    train_ds\n",
    "    .cache()\n",
    "    .shuffle(1000)\n",
    "    .prefetch(tf.data.AUTOTUNE)\n",
    ")\n",
    "\n",
    "val_ds = (\n",
    "    val_ds\n",
    "    .cache()\n",
    "    .shuffle(1000)\n",
    "    .prefetch(tf.data.AUTOTUNE)\n",
    ")"
   ]
  },
  {
   "cell_type": "code",
   "execution_count": 12,
   "id": "civil-hebrew",
   "metadata": {},
   "outputs": [
    {
     "name": "stdout",
     "output_type": "stream",
     "text": [
      "<PrefetchDataset shapes: ((None, 180, 180, 3), (None,)), types: (tf.float32, tf.int32)>\n",
      "<PrefetchDataset shapes: ((None, 180, 180, 3), (None,)), types: (tf.float32, tf.int32)>\n"
     ]
    }
   ],
   "source": [
    "print(train_ds)\n",
    "print(val_ds)"
   ]
  },
  {
   "cell_type": "markdown",
   "id": "special-spending",
   "metadata": {},
   "source": [
    "# MODEL"
   ]
  },
  {
   "cell_type": "code",
   "execution_count": 13,
   "id": "passing-dollar",
   "metadata": {},
   "outputs": [],
   "source": [
    "num_classes = len(CLASS_NAMES)\n",
    "\n",
    "model = tf.keras.Sequential([\n",
    "    InputLayer(input_shape = (CONFIG[\"IM_SIZE\"],CONFIG[\"IM_SIZE\"],3)),\n",
    "    tf.keras.layers.experimental.preprocessing.Rescaling(1./255,name = \"rescaling\"),\n",
    "\n",
    "    Conv2D(filters = 16, kernel_size = 3, strides = 1,padding=\"valid\", activation = 'relu'),\n",
    "    MaxPooling2D(),\n",
    "    Conv2D(filters = 32, kernel_size = 3, strides = 1,padding=\"valid\", activation = 'relu'),\n",
    "    MaxPooling2D(),\n",
    "    Conv2D(filters = 64, kernel_size = 3, strides = 1,padding=\"valid\", activation = 'relu'),\n",
    "    MaxPooling2D(),\n",
    "\n",
    "    Flatten(),\n",
    "\n",
    "    Dense(128, activation='relu'),\n",
    "    Dense(num_classes, activation = \"softmax\")\n",
    "])"
   ]
  },
  {
   "cell_type": "code",
   "execution_count": 14,
   "id": "colonial-anger",
   "metadata": {},
   "outputs": [
    {
     "name": "stdout",
     "output_type": "stream",
     "text": [
      "Model: \"sequential\"\n",
      "_________________________________________________________________\n",
      "Layer (type)                 Output Shape              Param #   \n",
      "=================================================================\n",
      "rescaling (Rescaling)        (None, 180, 180, 3)       0         \n",
      "_________________________________________________________________\n",
      "conv2d (Conv2D)              (None, 178, 178, 16)      448       \n",
      "_________________________________________________________________\n",
      "max_pooling2d (MaxPooling2D) (None, 89, 89, 16)        0         \n",
      "_________________________________________________________________\n",
      "conv2d_1 (Conv2D)            (None, 87, 87, 32)        4640      \n",
      "_________________________________________________________________\n",
      "max_pooling2d_1 (MaxPooling2 (None, 43, 43, 32)        0         \n",
      "_________________________________________________________________\n",
      "conv2d_2 (Conv2D)            (None, 41, 41, 64)        18496     \n",
      "_________________________________________________________________\n",
      "max_pooling2d_2 (MaxPooling2 (None, 20, 20, 64)        0         \n",
      "_________________________________________________________________\n",
      "flatten (Flatten)            (None, 25600)             0         \n",
      "_________________________________________________________________\n",
      "dense (Dense)                (None, 128)               3276928   \n",
      "_________________________________________________________________\n",
      "dense_1 (Dense)              (None, 5)                 645       \n",
      "=================================================================\n",
      "Total params: 3,301,157\n",
      "Trainable params: 3,301,157\n",
      "Non-trainable params: 0\n",
      "_________________________________________________________________\n"
     ]
    }
   ],
   "source": [
    "model.summary()"
   ]
  },
  {
   "cell_type": "code",
   "execution_count": 15,
   "id": "heard-perception",
   "metadata": {},
   "outputs": [],
   "source": [
    "model.compile('adam', loss = SparseCategoricalCrossentropy(), metrics=['accuracy'])"
   ]
  },
  {
   "cell_type": "code",
   "execution_count": 16,
   "id": "quick-amsterdam",
   "metadata": {},
   "outputs": [
    {
     "name": "stdout",
     "output_type": "stream",
     "text": [
      "Epoch 1/7\n",
      "109/109 [==============================] - 174s 1s/step - loss: 1.4920 - accuracy: 0.3420 - val_loss: 1.0790 - val_accuracy: 0.5764\n",
      "Epoch 2/7\n",
      "109/109 [==============================] - 160s 1s/step - loss: 1.0183 - accuracy: 0.6030 - val_loss: 0.9351 - val_accuracy: 0.6377\n",
      "Epoch 3/7\n",
      "109/109 [==============================] - 159s 1s/step - loss: 0.7818 - accuracy: 0.7068 - val_loss: 0.9422 - val_accuracy: 0.6319\n",
      "Epoch 4/7\n",
      "109/109 [==============================] - 160s 1s/step - loss: 0.6165 - accuracy: 0.7753 - val_loss: 0.9584 - val_accuracy: 0.6435\n",
      "Epoch 5/7\n",
      "109/109 [==============================] - 158s 1s/step - loss: 0.4268 - accuracy: 0.8443 - val_loss: 1.0383 - val_accuracy: 0.6262\n",
      "Epoch 6/7\n",
      "109/109 [==============================] - 161s 1s/step - loss: 0.2216 - accuracy: 0.9321 - val_loss: 1.2885 - val_accuracy: 0.6447\n",
      "Epoch 7/7\n",
      "109/109 [==============================] - 159s 1s/step - loss: 0.1171 - accuracy: 0.9687 - val_loss: 1.4141 - val_accuracy: 0.6481\n"
     ]
    }
   ],
   "source": [
    "history = model.fit(train_ds,epochs = 7,validation_data=val_ds, verbose = 1 , batch_size= CONFIG[\"BATCH_SIZE\"])"
   ]
  },
  {
   "cell_type": "code",
   "execution_count": 17,
   "id": "asian-avatar",
   "metadata": {},
   "outputs": [
    {
     "data": {
      "image/png": "[encoded data removed]",
      "text/plain": [
       "<Figure size 432x288 with 1 Axes>"
      ]
     },
     "metadata": {
      "needs_background": "light"
     },
     "output_type": "display_data"
    }
   ],
   "source": [
    "plt.plot(history.history['loss'])\n",
    "plt.plot(history.history['val_loss'])\n",
    "plt.title('Model loss')\n",
    "plt.ylabel('loss')\n",
    "plt.xlabel('epoch')\n",
    "plt.legend([\"train_loss\",\"val_loss\"])\n",
    "plt.show()"
   ]
  },
  {
   "cell_type": "code",
   "execution_count": 18,
   "id": "designing-passenger",
   "metadata": {},
   "outputs": [
    {
     "data": {
      "image/png": "[encoded data removed]",
      "text/plain": [
       "<Figure size 432x288 with 1 Axes>"
      ]
     },
     "metadata": {
      "needs_background": "light"
     },
     "output_type": "display_data"
    }
   ],
   "source": [
    "plt.plot(history.history['accuracy'])\n",
    "plt.plot(history.history['val_accuracy'])\n",
    "plt.title('Model Accuracy')\n",
    "plt.ylabel('loss')\n",
    "plt.xlabel('epoch')\n",
    "plt.legend([\"train_acc\",\"val_acc\"])\n",
    "plt.show()"
   ]
  },
  {
   "cell_type": "code",
   "execution_count": 21,
   "id": "smaller-fetish",
   "metadata": {},
   "outputs": [
    {
     "data": {
      "text/plain": [
       "<matplotlib.image.AxesImage at 0x244849b9850>"
      ]
     },
     "execution_count": 21,
     "metadata": {},
     "output_type": "execute_result"
    },
    {
     "data": {
      "image/png": "[encoded data removed]",
      "text/plain": [
       "<Figure size 432x288 with 1 Axes>"
      ]
     },
     "metadata": {
      "needs_background": "light"
     },
     "output_type": "display_data"
    }
   ],
   "source": [
    "test_img = cv2.imread(\"dataset/dandelion/506660896_c903cca1f0.jpg\")\n",
    "test_img = cv2.resize(test_img,(CONFIG[\"IM_SIZE\"],CONFIG[\"IM_SIZE\"]),)\n",
    "\n",
    "img_array = tf.keras.preprocessing.image.img_to_array(test_img)\n",
    "img_array = tf.expand_dims(img_array, axis = 0)\n",
    "\n",
    "prediction = model.predict(img_array)\n",
    "label = CLASS_NAMES[np.argmax(prediction)]\n",
    "\n",
    "plt.title(label)\n",
    "plt.imshow(test_img)"
   ]
  },
  {
   "cell_type": "code",
   "execution_count": null,
   "id": "computational-recording",
   "metadata": {},
   "outputs": [],
   "source": []
  }
 ],
 "metadata": {
  "kernelspec": {
   "display_name": "Python 3",
   "language": "python",
   "name": "python3"
  },
  "language_info": {
   "codemirror_mode": {
    "name": "ipython",
    "version": 3
   },
   "file_extension": ".py",
   "mimetype": "text/x-python",
   "name": "python",
   "nbconvert_exporter": "python",
   "pygments_lexer": "ipython3",
   "version": "3.8.8"
  }
 },
 "nbformat": 4,
 "nbformat_minor": 5
}
