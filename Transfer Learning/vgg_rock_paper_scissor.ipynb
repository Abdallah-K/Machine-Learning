{
 "cells": [
  {
   "cell_type": "code",
   "execution_count": null,
   "id": "opposed-picnic",
   "metadata": {},
   "outputs": [],
   "source": [
    "import cv2\n",
    "import matplotlib.pyplot as plt\n",
    "import tensorflow as tf\n",
    "from tensorflow.keras import layers\n",
    "import numpy as np"
   ]
  },
  {
   "cell_type": "markdown",
   "id": "hundred-intention",
   "metadata": {},
   "source": [
    "# DATA PREPARATION"
   ]
  },
  {
   "cell_type": "code",
   "execution_count": null,
   "id": "royal-shopper",
   "metadata": {},
   "outputs": [],
   "source": [
    "dataset_path = \"/content/dataset/rps-cv-images\"\n",
    "\n",
    "CONFIG = {\n",
    "    \"IM_SIZE\" : 256,\n",
    "    \"BATCH_SIZE\" : 32,\n",
    "}"
   ]
  },
  {
   "cell_type": "code",
   "execution_count": null,
   "id": "coupled-emergency",
   "metadata": {},
   "outputs": [],
   "source": [
    "train_ds = tf.keras.preprocessing.image_dataset_from_directory(\n",
    "    dataset_path,\n",
    "    image_size=(CONFIG[\"IM_SIZE\"],CONFIG[\"IM_SIZE\"]),\n",
    "    batch_size=CONFIG[\"BATCH_SIZE\"],\n",
    "    subset=\"training\",\n",
    "    validation_split=0.2,\n",
    "    shuffle = True,\n",
    "    seed = 123\n",
    ")"
   ]
  },
  {
   "cell_type": "code",
   "execution_count": null,
   "id": "robust-satin",
   "metadata": {},
   "outputs": [],
   "source": [
    "val_ds = tf.keras.preprocessing.image_dataset_from_directory(\n",
    "    dataset_path,\n",
    "    image_size=(CONFIG[\"IM_SIZE\"],CONFIG[\"IM_SIZE\"]),\n",
    "    batch_size=CONFIG[\"BATCH_SIZE\"],\n",
    "    subset=\"validation\",\n",
    "    validation_split=0.2,\n",
    "    shuffle = True,\n",
    "    seed = 123\n",
    ")"
   ]
  },
  {
   "cell_type": "code",
   "execution_count": null,
   "id": "subsequent-soldier",
   "metadata": {},
   "outputs": [],
   "source": [
    "class_names = train_ds.class_names\n",
    "print(class_names)"
   ]
  },
  {
   "cell_type": "markdown",
   "id": "brief-integral",
   "metadata": {},
   "source": [
    "# DATA VISUALIZE"
   ]
  },
  {
   "cell_type": "code",
   "execution_count": null,
   "id": "junior-julian",
   "metadata": {},
   "outputs": [],
   "source": [
    "plt.figure(figsize = (12,12))\n",
    "\n",
    "for images,labels in train_ds.take(1):\n",
    "  for i in range(16):\n",
    "    plt.subplot(4,4,i+1)\n",
    "    plt.imshow(images[i]/255)\n",
    "    plt.title(class_names[labels[i].numpy()])\n",
    "    plt.axis(\"off\")"
   ]
  },
  {
   "cell_type": "markdown",
   "id": "unnecessary-adobe",
   "metadata": {},
   "source": [
    "# DATA AUGMENTATION"
   ]
  },
  {
   "cell_type": "code",
   "execution_count": null,
   "id": "danish-hungarian",
   "metadata": {},
   "outputs": [],
   "source": [
    "data_augmentation_layer = tf.keras.models.Sequential([\n",
    "    tf.keras.layers.RandomFlip(\"horizontal\", input_shape=(CONFIG[\"IM_SIZE\"],CONFIG[\"IM_SIZE\"],3)),\n",
    "    tf.keras.layers.RandomRotation(0.2),\n",
    "    tf.keras.layers.RandomZoom(0.2),\n",
    "])"
   ]
  },
  {
   "cell_type": "code",
   "execution_count": null,
   "id": "outstanding-shift",
   "metadata": {},
   "outputs": [],
   "source": [
    "plt.figure(figsize=(10, 10))\n",
    "for images, _ in train_ds.take(1):\n",
    "  for i in range(9):\n",
    "    augmented_images = data_augmentation_layer(images)\n",
    "    ax = plt.subplot(3, 3, i + 1)\n",
    "    plt.imshow(augmented_images[0].numpy().astype(\"uint8\"))\n",
    "    plt.axis(\"off\")"
   ]
  },
  {
   "cell_type": "code",
   "execution_count": null,
   "id": "quarterly-composite",
   "metadata": {},
   "outputs": [],
   "source": [
    "train_ds = train_ds.shuffle(1000).prefetch(tf.data.AUTOTUNE)\n",
    "val_ds = val_ds.prefetch(tf.data.AUTOTUNE)"
   ]
  },
  {
   "cell_type": "code",
   "execution_count": null,
   "id": "assigned-evaluation",
   "metadata": {},
   "outputs": [],
   "source": [
    "print(f\"Train Size: {len(train_ds)}, Val size: {len(val_ds)}\")\n",
    "print(train_ds)\n",
    "print(val_ds)"
   ]
  },
  {
   "cell_type": "markdown",
   "id": "forbidden-actor",
   "metadata": {},
   "source": [
    "# TRANSFER LEARNING WITH VGG"
   ]
  },
  {
   "cell_type": "code",
   "execution_count": null,
   "id": "billion-messaging",
   "metadata": {},
   "outputs": [],
   "source": [
    "vgg_backbone = tf.keras.applications.vgg16.VGG16(\n",
    "    include_top = False,\n",
    "    weights = 'imagenet',\n",
    "    input_shape = (CONFIG[\"IM_SIZE\"],CONFIG[\"IM_SIZE\"],3)\n",
    ")\n",
    "vgg_backbone.trainable = False"
   ]
  },
  {
   "cell_type": "code",
   "execution_count": null,
   "id": "surgical-rental",
   "metadata": {},
   "outputs": [],
   "source": [
    "vgg_model = tf.keras.models.Sequential([\n",
    "    vgg_backbone,\n",
    "    layers.Flatten(),\n",
    "    layers.Dense(1000,activation = \"relu\"),\n",
    "    layers.Dropout(0.2),\n",
    "    layers.Dense(len(class_names),activation=\"softmax\")\n",
    "])\n",
    "vgg_model.summary()"
   ]
  },
  {
   "cell_type": "code",
   "execution_count": null,
   "id": "incident-antique",
   "metadata": {},
   "outputs": [],
   "source": [
    "vgg_model.compile(optimizer=\"sgd\",loss = tf.keras.losses.SparseCategoricalCrossentropy(),metrics=['accuracy'])"
   ]
  },
  {
   "cell_type": "code",
   "execution_count": null,
   "id": "sexual-strand",
   "metadata": {},
   "outputs": [],
   "source": [
    "history = vgg_model.fit(train_ds,validation_data=val_ds,epochs = 15)"
   ]
  },
  {
   "cell_type": "code",
   "execution_count": null,
   "id": "employed-maker",
   "metadata": {},
   "outputs": [],
   "source": [
    "vgg_model.evaluate(val_ds)"
   ]
  },
  {
   "cell_type": "code",
   "execution_count": null,
   "id": "complete-apartment",
   "metadata": {},
   "outputs": [],
   "source": [
    "plt.plot(history.history[\"loss\"])\n",
    "plt.plot(history.history[\"val_loss\"])\n",
    "plt.title(\"VGG loss\")\n",
    "plt.legend([\"loss\",\"val_loss\"])\n",
    "plt.show()"
   ]
  },
  {
   "cell_type": "code",
   "execution_count": null,
   "id": "wound-forge",
   "metadata": {},
   "outputs": [],
   "source": [
    "plt.plot(history.history[\"accuracy\"])\n",
    "plt.plot(history.history[\"val_accuracy\"])\n",
    "plt.title(\"VGG accuracy\")\n",
    "plt.legend([\"accuracy\",\"val_accuracy\"])\n",
    "plt.show()"
   ]
  },
  {
   "cell_type": "markdown",
   "id": "peaceful-council",
   "metadata": {},
   "source": [
    "# SEQUENTIAL MODEL"
   ]
  },
  {
   "cell_type": "code",
   "execution_count": null,
   "id": "casual-stranger",
   "metadata": {},
   "outputs": [],
   "source": [
    "model = tf.keras.models.Sequential([\n",
    "    layers.Rescaling(1./255,input_shape = (CONFIG[\"IM_SIZE\"],CONFIG[\"IM_SIZE\"],3)),\n",
    "\n",
    "    data_augmentation_layer,\n",
    "\n",
    "    layers.Conv2D(filters = 32,kernel_size=3,strides = 1,padding = \"valid\",activation=\"relu\"),\n",
    "    layers.MaxPool2D(),\n",
    "\n",
    "    layers.Conv2D(filters = 64,kernel_size=3,strides = 1,padding = \"valid\",activation=\"relu\"),\n",
    "    layers.MaxPool2D(),\n",
    "\n",
    "    layers.Conv2D(filters = 128,kernel_size=3,strides = 1,padding = \"valid\",activation=\"relu\"),\n",
    "    layers.MaxPool2D(),\n",
    "\n",
    "    layers.Dropout(0.3),\n",
    "\n",
    "\n",
    "    layers.Flatten(),\n",
    "\n",
    "    layers.Dense(128,activation=\"relu\"),\n",
    "    layers.Dense(100,activation=\"relu\"),\n",
    "    layers.Dense(len(class_names),activation=\"softmax\"),\n",
    "\n",
    "])\n",
    "model.summary()"
   ]
  },
  {
   "cell_type": "code",
   "execution_count": null,
   "id": "eastern-guinea",
   "metadata": {},
   "outputs": [],
   "source": [
    "model.compile(optimizer=\"adam\",loss = tf.keras.losses.SparseCategoricalCrossentropy(),metrics=['accuracy'])"
   ]
  },
  {
   "cell_type": "code",
   "execution_count": null,
   "id": "strong-invasion",
   "metadata": {},
   "outputs": [],
   "source": [
    "history = model.fit(train_ds,validation_data=val_ds,epochs=10,batch_size= CONFIG[\"BATCH_SIZE\"])"
   ]
  },
  {
   "cell_type": "code",
   "execution_count": null,
   "id": "fixed-screw",
   "metadata": {},
   "outputs": [],
   "source": [
    "model.evaluate(val_ds)"
   ]
  },
  {
   "cell_type": "code",
   "execution_count": null,
   "id": "personal-alliance",
   "metadata": {},
   "outputs": [],
   "source": [
    "plt.plot(history.history[\"loss\"])\n",
    "plt.plot(history.history[\"val_loss\"])\n",
    "plt.title('Model loss')\n",
    "plt.legend([\"train_loss\",\"val_loss\"])\n",
    "plt.show()"
   ]
  },
  {
   "cell_type": "code",
   "execution_count": null,
   "id": "numeric-formation",
   "metadata": {},
   "outputs": [],
   "source": [
    "plt.plot(history.history[\"accuracy\"])\n",
    "plt.plot(history.history[\"val_accuracy\"])\n",
    "plt.title('Model acc')\n",
    "plt.legend([\"train_loss\",\"val_loss\"])\n",
    "plt.show()"
   ]
  },
  {
   "cell_type": "markdown",
   "id": "informal-scheme",
   "metadata": {},
   "source": [
    "# PREDICT DATA"
   ]
  },
  {
   "cell_type": "code",
   "execution_count": null,
   "id": "conditional-montgomery",
   "metadata": {},
   "outputs": [],
   "source": [
    "plt.figure(figsize=(16,16))\n",
    "\n",
    "for images,labels in val_ds.take(1):\n",
    "  for i in range(25):\n",
    "    plt.subplot(5,5,i+1)\n",
    "    plt.imshow(images[i]/255)\n",
    "    true_label = class_names[labels[i].numpy()]\n",
    "    img_arr = tf.expand_dims(images[i],axis = 0)\n",
    "    prediction = np.argmax(vgg_model.predict(img_arr))\n",
    "    plt.title(f\"True: {true_label} \\n Predict: {class_names[prediction]}\")\n",
    "    plt.axis(\"off\")"
   ]
  }
 ],
 "metadata": {
  "kernelspec": {
   "display_name": "Python 3",
   "language": "python",
   "name": "python3"
  },
  "language_info": {
   "codemirror_mode": {
    "name": "ipython",
    "version": 3
   },
   "file_extension": ".py",
   "mimetype": "text/x-python",
   "name": "python",
   "nbconvert_exporter": "python",
   "pygments_lexer": "ipython3",
   "version": "3.8.8"
  }
 },
 "nbformat": 4,
 "nbformat_minor": 5
}
