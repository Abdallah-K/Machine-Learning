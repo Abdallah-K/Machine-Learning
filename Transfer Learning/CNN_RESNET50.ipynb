{
 "cells": [
  {
   "cell_type": "code",
   "execution_count": null,
   "id": "august-producer",
   "metadata": {},
   "outputs": [],
   "source": [
    "dataset_dir = \"/content/dataset/raw-img\"\n",
    "\n",
    "CONFIG = {\n",
    "    \"IM_SIZE\" : 180,\n",
    "    \"BATCH_SIZE\" : 32,\n",
    "}"
   ]
  },
  {
   "cell_type": "code",
   "execution_count": null,
   "id": "2c112734",
   "metadata": {},
   "outputs": [],
   "source": [
    "import tensorflow as tf"
   ]
  },
  {
   "cell_type": "code",
   "execution_count": null,
   "id": "numeric-kruger",
   "metadata": {},
   "outputs": [],
   "source": [
    "train_ds = tf.keras.utils.image_dataset_from_directory(\n",
    "    dataset_dir,\n",
    "    validation_split=0.2,\n",
    "    subset = 'training',\n",
    "    image_size = (CONFIG[\"IM_SIZE\"],CONFIG[\"IM_SIZE\"]),\n",
    "    batch_size = CONFIG[\"BATCH_SIZE\"],\n",
    "    seed = 123,\n",
    "    label_mode = 'categorical',                     \n",
    ")"
   ]
  },
  {
   "cell_type": "code",
   "execution_count": null,
   "id": "immune-cleaners",
   "metadata": {},
   "outputs": [],
   "source": [
    "val_ds = tf.keras.utils.image_dataset_from_directory(\n",
    "    dataset_dir,\n",
    "    validation_split=0.2,\n",
    "    subset = 'validation',\n",
    "    image_size = (CONFIG[\"IM_SIZE\"],CONFIG[\"IM_SIZE\"]),\n",
    "    batch_size = CONFIG[\"BATCH_SIZE\"],\n",
    "    seed = 123,\n",
    "    label_mode = 'categorical',                     \n",
    ")"
   ]
  },
  {
   "cell_type": "code",
   "execution_count": null,
   "id": "acquired-alias",
   "metadata": {},
   "outputs": [],
   "source": [
    "print(train_ds)\n",
    "print(val_ds)"
   ]
  },
  {
   "cell_type": "code",
   "execution_count": null,
   "id": "enormous-shape",
   "metadata": {},
   "outputs": [],
   "source": [
    "class_names = train_ds.class_names\n",
    "print(class_names)"
   ]
  },
  {
   "cell_type": "code",
   "execution_count": null,
   "id": "straight-peninsula",
   "metadata": {},
   "outputs": [],
   "source": [
    "pretrained_model = tf.keras.applications.ResNet50(\n",
    "    include_top= False,\n",
    "    input_shape= (CONFIG[\"IM_SIZE\"],CONFIG[\"IM_SIZE\"],3),\n",
    "    classes= len(class_names),\n",
    "    pooling = \"avg\", # or max\n",
    "    weights = \"imagenet\"\n",
    ")\n",
    "\n",
    "for layer in pretrained_model.layers:\n",
    "  layer.trainable = False"
   ]
  },
  {
   "cell_type": "code",
   "execution_count": null,
   "id": "cooperative-smell",
   "metadata": {},
   "outputs": [],
   "source": [
    "resnet_model = tf.keras.models.Sequential([\n",
    "    pretrained_model,\n",
    "    Flatten(),\n",
    "    Dense(512,activation='relu'),\n",
    "    Dense(len(class_names),activation = 'softmax')\n",
    "])"
   ]
  },
  {
   "cell_type": "code",
   "execution_count": null,
   "id": "closed-tunisia",
   "metadata": {},
   "outputs": [],
   "source": [
    "resnet_model.summary()"
   ]
  },
  {
   "cell_type": "code",
   "execution_count": null,
   "id": "dental-webmaster",
   "metadata": {},
   "outputs": [],
   "source": [
    "resnet_model.compile(optimizer=Adam(learning_rate = 0.001), loss = 'categorical_crossentropy', metrics = ['accuracy'])"
   ]
  },
  {
   "cell_type": "code",
   "execution_count": null,
   "id": "premier-industry",
   "metadata": {},
   "outputs": [],
   "source": [
    "history = resnet_model.fit(\n",
    "    train_ds,\n",
    "    validation_data = val_ds,\n",
    "    epochs = 10,\n",
    ")"
   ]
  },
  {
   "cell_type": "code",
   "execution_count": null,
   "id": "later-bangladesh",
   "metadata": {},
   "outputs": [],
   "source": [
    "plt.plot(history.history['loss'])\n",
    "plt.plot(history.history['val_loss'])\n",
    "plt.title('Model loss')\n",
    "plt.ylabel('loss')\n",
    "plt.xlabel('epoch')\n",
    "plt.legend([\"train_loss\",\"val_loss\"])\n",
    "plt.show()"
   ]
  },
  {
   "cell_type": "code",
   "execution_count": null,
   "id": "bridal-happening",
   "metadata": {},
   "outputs": [],
   "source": [
    "plt.plot(history.history['accuracy'])\n",
    "plt.plot(history.history['val_accuracy'])\n",
    "plt.title('Model loss')\n",
    "plt.ylabel('loss')\n",
    "plt.xlabel('epoch')\n",
    "plt.legend([\"train_loss\",\"val_loss\"])\n",
    "plt.show()"
   ]
  }
 ],
 "metadata": {
  "kernelspec": {
   "display_name": "Python 3",
   "language": "python",
   "name": "python3"
  },
  "language_info": {
   "codemirror_mode": {
    "name": "ipython",
    "version": 3
   },
   "file_extension": ".py",
   "mimetype": "text/x-python",
   "name": "python",
   "nbconvert_exporter": "python",
   "pygments_lexer": "ipython3",
   "version": "3.8.8"
  }
 },
 "nbformat": 4,
 "nbformat_minor": 5
}
